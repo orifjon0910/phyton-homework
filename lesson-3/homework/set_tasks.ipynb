{
 "cells": [
  {
   "cell_type": "code",
   "execution_count": null,
   "metadata": {},
   "outputs": [
    {
     "name": "stdout",
     "output_type": "stream",
     "text": [
      "{1, 2, 3, 4, 5, 6}\n"
     ]
    }
   ],
   "source": [
    "#1\n",
    "set1 = {1, 2, 3, 4}\n",
    "set2 = {3, 4, 5, 6}\n",
    "union_set = set1 | set2 \n",
    "print(union_set) "
   ]
  },
  {
   "cell_type": "code",
   "execution_count": 2,
   "metadata": {},
   "outputs": [
    {
     "name": "stdout",
     "output_type": "stream",
     "text": [
      "{3, 4}\n"
     ]
    }
   ],
   "source": [
    "#2\n",
    "set1 = {1, 2, 3, 4}\n",
    "set2 = {3, 4, 5, 6}\n",
    "intersection_set = set1 & set2  \n",
    "print(intersection_set)"
   ]
  },
  {
   "cell_type": "code",
   "execution_count": 3,
   "metadata": {},
   "outputs": [
    {
     "name": "stdout",
     "output_type": "stream",
     "text": [
      "{1, 2}\n"
     ]
    }
   ],
   "source": [
    "#3\n",
    "set1 = {1, 2, 3, 4}\n",
    "set2 = {3, 4, 5, 6}\n",
    "difference_set = set1 - set2 \n",
    "print(difference_set)"
   ]
  },
  {
   "cell_type": "code",
   "execution_count": null,
   "metadata": {},
   "outputs": [],
   "source": [
    "#4\n",
    "set1 = {1, 2}\n",
    "set2 = {1, 2, 3, 4}\n",
    "is_subset = set1.issubset(set2)  \n",
    "print(is_subset)  "
   ]
  },
  {
   "cell_type": "code",
   "execution_count": null,
   "metadata": {},
   "outputs": [],
   "source": [
    "#5\n",
    "my_set = {10, 20, 30, 40}\n",
    "element = 20\n",
    "exists = element in my_set\n",
    "print(exists) "
   ]
  },
  {
   "cell_type": "code",
   "execution_count": null,
   "metadata": {},
   "outputs": [],
   "source": [
    "#6\n",
    "my_set = {1, 2, 3, 4, 5}\n",
    "set_length = len(my_set)\n",
    "print(set_length) "
   ]
  },
  {
   "cell_type": "code",
   "execution_count": null,
   "metadata": {},
   "outputs": [],
   "source": [
    "#7\n",
    "my_list = [1, 2, 3, 2, 4, 5, 1]\n",
    "unique_set = set(my_list)\n",
    "\n",
    "print(unique_set)"
   ]
  },
  {
   "cell_type": "code",
   "execution_count": null,
   "metadata": {},
   "outputs": [],
   "source": [
    "#8\n",
    "my_set = {1, 2, 3, 4, 5}\n",
    "element_to_remove = 3\n",
    "my_set.discard(element_to_remove) \n",
    "print(my_set) "
   ]
  },
  {
   "cell_type": "code",
   "execution_count": null,
   "metadata": {},
   "outputs": [],
   "source": [
    "#9\n",
    "my_set = {1, 2, 3, 4, 5}\n",
    "my_set.clear()\n",
    "print(my_set) "
   ]
  },
  {
   "cell_type": "code",
   "execution_count": null,
   "metadata": {},
   "outputs": [],
   "source": [
    "#9\n",
    "my_set = set()  \n",
    "is_empty = len(my_set) == 0  \n",
    "print(is_empty) "
   ]
  },
  {
   "cell_type": "code",
   "execution_count": null,
   "metadata": {},
   "outputs": [],
   "source": [
    "#10\n",
    "my_set = set() \n",
    "is_empty = not my_set  \n",
    "print(is_empty)"
   ]
  },
  {
   "cell_type": "code",
   "execution_count": null,
   "metadata": {},
   "outputs": [],
   "source": [
    "#11\n",
    "set1 = {1, 2, 3, 4}\n",
    "set2 = {3, 4, 5, 6}\n",
    "sym_diff = set1 ^ set2 \n",
    "print(\"Symmetric Difference:\", sym_diff)"
   ]
  },
  {
   "cell_type": "code",
   "execution_count": null,
   "metadata": {},
   "outputs": [],
   "source": [
    "#12\n",
    "my_set = {1, 2, 3, 4}\n",
    "element = 5\n",
    "my_set.add(element)  \n",
    "print(\"Updated Set:\", my_set)"
   ]
  },
  {
   "cell_type": "code",
   "execution_count": null,
   "metadata": {},
   "outputs": [],
   "source": [
    "#13\n",
    "my_set = {10, 20, 30, 40}\n",
    "popped_element = my_set.pop()  \n",
    "print(\"Popped Element:\", popped_element)\n",
    "print(\"Updated Set:\", my_set)"
   ]
  },
  {
   "cell_type": "code",
   "execution_count": null,
   "metadata": {},
   "outputs": [],
   "source": [
    "#14\n",
    "num_set = {3, 7, 1, 9, 4}\n",
    "max_element = max(num_set)  \n",
    "print(\"Maximum Element:\", max_element)"
   ]
  },
  {
   "cell_type": "code",
   "execution_count": null,
   "metadata": {},
   "outputs": [],
   "source": [
    "#15\n",
    "num_set = {3, 7, 1, 9, 4}\n",
    "min_element = min(num_set)  \n",
    "print(\"Minimum Element:\", min_element)"
   ]
  },
  {
   "cell_type": "code",
   "execution_count": null,
   "metadata": {},
   "outputs": [],
   "source": [
    "#16\n",
    "num_set = {1, 2, 3, 4, 5, 6, 7, 8, 9, 10}\n",
    "even_set = {num for num in num_set if num % 2 == 0}  \n",
    "print(\"Even Numbers:\", even_set)"
   ]
  },
  {
   "cell_type": "code",
   "execution_count": null,
   "metadata": {},
   "outputs": [],
   "source": [
    "#17\n",
    "num_set = {1, 2, 3, 4, 5, 6, 7, 8, 9, 10}\n",
    "even_set = {num for num in num_set if num % 2 == 0}  \n",
    "print(\"Even Numbers:\", even_set)"
   ]
  },
  {
   "cell_type": "code",
   "execution_count": null,
   "metadata": {},
   "outputs": [],
   "source": [
    "#18\n",
    "num_set = {1, 2, 3, 4, 5, 6, 7, 8, 9, 10}\n",
    "odd_set = {num for num in num_set if num % 2 != 0}  \n",
    "print(\"Odd Numbers:\", odd_set)"
   ]
  },
  {
   "cell_type": "code",
   "execution_count": null,
   "metadata": {},
   "outputs": [],
   "source": [
    "#19\n",
    "list1 = [1, 2, 3, 4, 5, 5, 6]\n",
    "list2 = [4, 5, 6, 7, 8, 9]\n",
    "merged_set = set(list1) | set(list2)  \n",
    "print(\"Merged and Deduplicated Set:\", merged_set)"
   ]
  },
  {
   "cell_type": "code",
   "execution_count": null,
   "metadata": {},
   "outputs": [],
   "source": [
    "#20\n",
    "set1 = {1, 2, 3}\n",
    "set2 = {4, 5, 6}\n",
    "disjoint = set1.isdisjoint(set2)  \n",
    "print(\"Are sets disjoint?\", disjoint)"
   ]
  },
  {
   "cell_type": "code",
   "execution_count": null,
   "metadata": {},
   "outputs": [],
   "source": [
    "#21\n",
    "num_list = [1, 2, 2, 3, 4, 4, 5]\n",
    "unique_list = list(set(num_list)) \n",
    "print(\"List with Duplicates Removed:\", unique_list)"
   ]
  },
  {
   "cell_type": "code",
   "execution_count": null,
   "metadata": {},
   "outputs": [],
   "source": [
    "#22\n",
    "num_list = [1, 2, 2, 3, 4, 4, 5]\n",
    "unique_count = len(set(num_list))  \n",
    "print(\"Count of Unique Elements:\", unique_count)"
   ]
  },
  {
   "cell_type": "code",
   "execution_count": null,
   "metadata": {},
   "outputs": [
    {
     "name": "stdout",
     "output_type": "stream",
     "text": [
      "Random Set: {67, 68, 11, 45, 88}\n"
     ]
    }
   ],
   "source": [
    "#23\n",
    "import random\n",
    "random_set = {random.randint(1, 100) for _ in range(5)}  \n",
    "print(\"Random Set:\", random_set)"
   ]
  }
 ],
 "metadata": {
  "kernelspec": {
   "display_name": "Python 3",
   "language": "python",
   "name": "python3"
  },
  "language_info": {
   "codemirror_mode": {
    "name": "ipython",
    "version": 3
   },
   "file_extension": ".py",
   "mimetype": "text/x-python",
   "name": "python",
   "nbconvert_exporter": "python",
   "pygments_lexer": "ipython3",
   "version": "3.12.9"
  }
 },
 "nbformat": 4,
 "nbformat_minor": 2
}
