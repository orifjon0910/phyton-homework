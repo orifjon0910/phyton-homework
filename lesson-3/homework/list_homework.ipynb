{
 "cells": [
  {
   "cell_type": "markdown",
   "metadata": {},
   "source": [
    "Container Types Intro\n",
    "-List Homework\n",
    "\n"
   ]
  },
  {
   "cell_type": "code",
   "execution_count": null,
   "metadata": {},
   "outputs": [
    {
     "data": {
      "text/plain": [
       "3"
      ]
     },
     "execution_count": 1,
     "metadata": {},
     "output_type": "execute_result"
    }
   ],
   "source": [
    "#1\n",
    "numbers = [1,2 ,3, 1, 4, 6, 1]\n",
    "numbers.count(1)"
   ]
  },
  {
   "cell_type": "code",
   "execution_count": 6,
   "metadata": {},
   "outputs": [
    {
     "name": "stdout",
     "output_type": "stream",
     "text": [
      "15\n"
     ]
    }
   ],
   "source": [
    "#2\n",
    "apple = [1, 2, 3, 4, 5]\n",
    "total = sum(apple)\n",
    "print(total)"
   ]
  },
  {
   "cell_type": "code",
   "execution_count": 8,
   "metadata": {},
   "outputs": [
    {
     "name": "stdout",
     "output_type": "stream",
     "text": [
      "5\n"
     ]
    }
   ],
   "source": [
    "#3\n",
    "apple = [1, 2, 3, 4, 5]\n",
    "new_apple = max(apple)\n",
    "print(new_apple)"
   ]
  },
  {
   "cell_type": "code",
   "execution_count": 1,
   "metadata": {},
   "outputs": [
    {
     "name": "stdout",
     "output_type": "stream",
     "text": [
      "1\n"
     ]
    }
   ],
   "source": [
    "#4\n",
    "apple = [1, 2, 3, 4, 5]\n",
    "new_apple = min(apple)\n",
    "print(new_apple)"
   ]
  },
  {
   "cell_type": "code",
   "execution_count": 11,
   "metadata": {},
   "outputs": [
    {
     "name": "stdout",
     "output_type": "stream",
     "text": [
      "Yes\n"
     ]
    }
   ],
   "source": [
    "#5\n",
    "apple = [1, 2, 3, 4, 5]\n",
    "element = 4\n",
    "if element in apple:\n",
    "    print(\"Yes\")\n",
    "else:\n",
    "    print(\"No\")   "
   ]
  },
  {
   "cell_type": "code",
   "execution_count": 14,
   "metadata": {},
   "outputs": [
    {
     "name": "stdout",
     "output_type": "stream",
     "text": [
      "1\n"
     ]
    }
   ],
   "source": [
    "#6\n",
    "apple = [1, 2, 3, 4, 5]\n",
    "new_apple = print(apple[0])"
   ]
  },
  {
   "cell_type": "code",
   "execution_count": 15,
   "metadata": {},
   "outputs": [
    {
     "name": "stdout",
     "output_type": "stream",
     "text": [
      "5\n"
     ]
    }
   ],
   "source": [
    "#7\n",
    "apple = [1, 2, 3, 4, 5]\n",
    "new_apple = print(apple[-1])"
   ]
  },
  {
   "cell_type": "code",
   "execution_count": 20,
   "metadata": {},
   "outputs": [
    {
     "name": "stdout",
     "output_type": "stream",
     "text": [
      "[1, 2, 3]\n"
     ]
    }
   ],
   "source": [
    "#8\n",
    "apple = [1, 2, 3, 4, 5]\n",
    "new_apple = print(apple[:3])"
   ]
  },
  {
   "cell_type": "code",
   "execution_count": 25,
   "metadata": {},
   "outputs": [
    {
     "name": "stdout",
     "output_type": "stream",
     "text": [
      "[5, 4, 3, 2, 1]\n"
     ]
    }
   ],
   "source": [
    "#9\n",
    "apple = [1, 2, 3, 4, 5]\n",
    "apple.reverse()\n",
    "print(apple)"
   ]
  },
  {
   "cell_type": "code",
   "execution_count": 27,
   "metadata": {},
   "outputs": [
    {
     "name": "stdout",
     "output_type": "stream",
     "text": [
      "[1, 3, 5, 5, 6]\n"
     ]
    }
   ],
   "source": [
    "#10\n",
    "apple = [5, 6, 3, 1, 5]\n",
    "apple.sort()\n",
    "print(apple)"
   ]
  },
  {
   "cell_type": "code",
   "execution_count": 31,
   "metadata": {},
   "outputs": [
    {
     "name": "stdout",
     "output_type": "stream",
     "text": [
      "{1, 3, 5, 6}\n"
     ]
    }
   ],
   "source": [
    "#11\n",
    "apple = [5, 6, 6, 3, 1, 5]\n",
    "new_apple = set(apple)\n",
    "print(new_apple)"
   ]
  },
  {
   "cell_type": "code",
   "execution_count": null,
   "metadata": {},
   "outputs": [
    {
     "name": "stdout",
     "output_type": "stream",
     "text": [
      "[1, 2, 3, 4, 5]\n"
     ]
    }
   ],
   "source": [
    "#12\n",
    "my_list = [1, 2, 3, 5]\n",
    "element = 4\n",
    "index = 3  \n",
    "\n",
    "my_list.insert(index, element)\n",
    "print(my_list)"
   ]
  },
  {
   "cell_type": "code",
   "execution_count": 6,
   "metadata": {},
   "outputs": [
    {
     "name": "stdout",
     "output_type": "stream",
     "text": [
      "1\n"
     ]
    }
   ],
   "source": [
    "#13\n",
    "apple = [1, 4, 4, 7, 8]\n",
    "element = 4\n",
    "print(apple.index(element))"
   ]
  },
  {
   "cell_type": "code",
   "execution_count": 7,
   "metadata": {},
   "outputs": [
    {
     "name": "stdout",
     "output_type": "stream",
     "text": [
      "True\n"
     ]
    }
   ],
   "source": [
    "#14\n",
    "my_list = []\n",
    "is_empty = not my_list  \n",
    "print(is_empty)"
   ]
  },
  {
   "cell_type": "code",
   "execution_count": null,
   "metadata": {},
   "outputs": [],
   "source": [
    "#15\n",
    "my_list = [1, 2, 3, 4, 5, 6, 7, 8, 9, 10]\n",
    "even_count = sum(num for num in my_list if num % 2 == 0)\n",
    "print(even_count)"
   ]
  },
  {
   "cell_type": "code",
   "execution_count": null,
   "metadata": {},
   "outputs": [],
   "source": [
    "#16\n",
    "my_list = [1, 2, 3, 4, 5, 6, 7, 8, 9, 10]\n",
    "odd_count = sum(num for num in my_list if num % 2 != 0)\n",
    "print(odd_count)"
   ]
  },
  {
   "cell_type": "code",
   "execution_count": null,
   "metadata": {},
   "outputs": [],
   "source": [
    "#17\n",
    "list1 = [1, 2, 3]\n",
    "list2 = [4, 5, 6]\n",
    "combined_list = list1 + list2\n",
    "print(combined_list)"
   ]
  },
  {
   "cell_type": "code",
   "execution_count": 15,
   "metadata": {},
   "outputs": [
    {
     "name": "stdout",
     "output_type": "stream",
     "text": [
      "True\n"
     ]
    }
   ],
   "source": [
    "#18\n",
    "main_list = [1, 2, 3, 4, 5, 6]\n",
    "sub_list = [3, 4, 5]\n",
    "\n",
    "exists = str(sub_list)[1:-1] in str(main_list)[1:-1]\n",
    "print(exists)"
   ]
  },
  {
   "cell_type": "code",
   "execution_count": 14,
   "metadata": {},
   "outputs": [
    {
     "name": "stdout",
     "output_type": "stream",
     "text": [
      "[3, 9, 8, 19, 21]\n"
     ]
    }
   ],
   "source": [
    "#19\n",
    "apple = [3, 7, 8, 19, 21]\n",
    "old = 7\n",
    "new = 9\n",
    "if old in apple:\n",
    "    index = apple.index(old)  \n",
    "    apple[index] = new \n",
    "    print(apple)\n"
   ]
  },
  {
   "cell_type": "code",
   "execution_count": 16,
   "metadata": {},
   "outputs": [
    {
     "name": "stdout",
     "output_type": "stream",
     "text": [
      "45\n"
     ]
    }
   ],
   "source": [
    "#20\n",
    "my_number = [10, 20, 4, 45, 99, 99]\n",
    "second_largest = sorted(set(my_number))[-2]  \n",
    "print(second_largest)"
   ]
  },
  {
   "cell_type": "code",
   "execution_count": 17,
   "metadata": {},
   "outputs": [
    {
     "name": "stdout",
     "output_type": "stream",
     "text": [
      "10\n"
     ]
    }
   ],
   "source": [
    "#21\n",
    "my_list = [10, 20, 4, 45, 99, 4]\n",
    "second_smallest = sorted(set(my_list))[1]  \n",
    "print(second_smallest)"
   ]
  },
  {
   "cell_type": "code",
   "execution_count": 18,
   "metadata": {},
   "outputs": [
    {
     "name": "stdout",
     "output_type": "stream",
     "text": [
      "[2, 4, 6, 8, 10]\n"
     ]
    }
   ],
   "source": [
    "#22\n",
    "my_list = [1, 2, 3, 4, 5, 6, 7, 8, 9, 10]\n",
    "even_list = [num for num in my_list if num % 2 == 0]  \n",
    "print(even_list)"
   ]
  },
  {
   "cell_type": "code",
   "execution_count": 19,
   "metadata": {},
   "outputs": [
    {
     "name": "stdout",
     "output_type": "stream",
     "text": [
      "[1, 3, 5, 7, 9]\n"
     ]
    }
   ],
   "source": [
    "#23\n",
    "my_list = [1, 2, 3, 4, 5, 6, 7, 8, 9, 10]\n",
    "odd_list = [num for num in my_list if num % 2 != 0]  \n",
    "print(odd_list)"
   ]
  },
  {
   "cell_type": "code",
   "execution_count": 23,
   "metadata": {},
   "outputs": [
    {
     "name": "stdout",
     "output_type": "stream",
     "text": [
      "10\n"
     ]
    }
   ],
   "source": [
    "#24\n",
    "my_list = [1, 2, 3, 4, 5, 6, 7, 8, 9, 10]\n",
    "length = len(my_list)\n",
    "print(length)"
   ]
  },
  {
   "cell_type": "code",
   "execution_count": 24,
   "metadata": {},
   "outputs": [
    {
     "name": "stdout",
     "output_type": "stream",
     "text": [
      "[1, 2, 3, 4, 5, 6, 7, 8, 9, 10]\n"
     ]
    }
   ],
   "source": [
    "#25\n",
    "my_list = [1, 2, 3, 4, 5, 6, 7, 8, 9, 10]\n",
    "asd = my_list.copy()\n",
    "print(asd)"
   ]
  },
  {
   "cell_type": "code",
   "execution_count": 25,
   "metadata": {},
   "outputs": [
    {
     "name": "stdout",
     "output_type": "stream",
     "text": [
      "[5, 6]\n"
     ]
    }
   ],
   "source": [
    "#26\n",
    "my_list = [1, 2, 3, 4, 5, 6, 7, 8, 9, 10]\n",
    "asd = len(my_list)\n",
    "mid = asd // 2\n",
    "if length % 2 == 0:\n",
    "    middle_elements = [my_list[mid - 1], my_list[mid]]  # Two middle elements\n",
    "else:\n",
    "    middle_elements = my_list[mid]  # Single middle element\n",
    "\n",
    "print(middle_elements)\n"
   ]
  },
  {
   "cell_type": "code",
   "execution_count": 29,
   "metadata": {},
   "outputs": [
    {
     "name": "stdout",
     "output_type": "stream",
     "text": [
      "9\n"
     ]
    }
   ],
   "source": [
    "#27\n",
    "my_list = [1, 3, 5, 7, 9, 2, 4, 6, 8]\n",
    "start, end = 2, 6  \n",
    "sublist = my_list[start:end]  \n",
    "max_element = max(sublist)  \n",
    "print(max_element)"
   ]
  },
  {
   "cell_type": "code",
   "execution_count": null,
   "metadata": {},
   "outputs": [],
   "source": [
    "#28\n",
    "my_list = [1, 3, 5, 7, 9, 2, 4, 6, 8]\n",
    "start, end = 2, 6  \n",
    "sublist = my_list[start:end]  \n",
    "min_element = min(sublist)  \n",
    "print(min_element)"
   ]
  },
  {
   "cell_type": "code",
   "execution_count": 31,
   "metadata": {},
   "outputs": [
    {
     "name": "stdout",
     "output_type": "stream",
     "text": [
      "[1, 2, 4, 5]\n"
     ]
    }
   ],
   "source": [
    "#29\n",
    "my_list = [1, 2, 3, 4, 5]\n",
    "index = 2 \n",
    "del my_list[index]\n",
    "print(my_list)"
   ]
  },
  {
   "cell_type": "code",
   "execution_count": 32,
   "metadata": {},
   "outputs": [
    {
     "name": "stdout",
     "output_type": "stream",
     "text": [
      "True\n"
     ]
    }
   ],
   "source": [
    "#30\n",
    "my_list = [1, 2, 3, 4, 5]\n",
    "is_sorted = my_list == sorted(my_list)  \n",
    "print(is_sorted)"
   ]
  },
  {
   "cell_type": "code",
   "execution_count": null,
   "metadata": {},
   "outputs": [
    {
     "name": "stdout",
     "output_type": "stream",
     "text": [
      "[1, 1, 1, 2, 2, 2, 3, 3, 3]\n"
     ]
    }
   ],
   "source": [
    "#31\n",
    "my_list = [1, 2, 3]\n",
    "repeat_times = 3  \n",
    "repeated_list = [num for num in my_list for _ in range(repeat_times)]\n",
    "print(repeated_list)\n"
   ]
  },
  {
   "cell_type": "code",
   "execution_count": 34,
   "metadata": {},
   "outputs": [
    {
     "name": "stdout",
     "output_type": "stream",
     "text": [
      "[1, 2, 3, 4, 5, 6]\n"
     ]
    }
   ],
   "source": [
    "#32\n",
    "list1 = [3, 1, 4]\n",
    "list2 = [2, 5, 6]\n",
    "merged_sorted = sorted(list1 + list2)  \n",
    "print(merged_sorted)"
   ]
  },
  {
   "cell_type": "code",
   "execution_count": null,
   "metadata": {},
   "outputs": [],
   "source": [
    "#33\n",
    "my_list = [1, 2, 3, 2, 4, 2]\n",
    "element = 2\n",
    "indices = [i for i, x in enumerate(my_list) if x == element]\n",
    "print(indices)"
   ]
  },
  {
   "cell_type": "code",
   "execution_count": null,
   "metadata": {},
   "outputs": [],
   "source": [
    "#34\n",
    "my_list = [1, 2, 3, 4, 5]\n",
    "shift = 2  \n",
    "rotated = my_list[-shift:] + my_list[:-shift]\n",
    "print(rotated)"
   ]
  },
  {
   "cell_type": "code",
   "execution_count": null,
   "metadata": {},
   "outputs": [],
   "source": [
    "#35\n",
    "range_list = list(range(1, 11))  \n",
    "print(range_list)"
   ]
  },
  {
   "cell_type": "code",
   "execution_count": 35,
   "metadata": {},
   "outputs": [
    {
     "name": "stdout",
     "output_type": "stream",
     "text": [
      "22\n"
     ]
    }
   ],
   "source": [
    "#36\n",
    "my_list = [-3, 5, -1, 7, -2, 10]\n",
    "positive_sum = sum(num for num in my_list if num > 0)\n",
    "print(positive_sum)"
   ]
  },
  {
   "cell_type": "code",
   "execution_count": null,
   "metadata": {},
   "outputs": [],
   "source": [
    "#37\n",
    "negative_sum = sum(num for num in my_list if num < 0)\n",
    "print(negative_sum)"
   ]
  },
  {
   "cell_type": "code",
   "execution_count": null,
   "metadata": {},
   "outputs": [],
   "source": [
    "#38\n",
    "my_list = [1, 2, 3, 2, 1]\n",
    "is_palindrome = my_list == my_list[::-1]\n",
    "print(is_palindrome)"
   ]
  },
  {
   "cell_type": "code",
   "execution_count": 36,
   "metadata": {},
   "outputs": [
    {
     "name": "stdout",
     "output_type": "stream",
     "text": [
      "[[1, 2, 3], [4, 5, 6], [7, 8]]\n"
     ]
    }
   ],
   "source": [
    "#39\n",
    "my_list = [1, 2, 3, 4, 5, 6, 7, 8]\n",
    "size = 3\n",
    "nested_list = [my_list[i:i + size] for i in range(0, len(my_list), size)]\n",
    "print(nested_list)"
   ]
  },
  {
   "cell_type": "code",
   "execution_count": 37,
   "metadata": {},
   "outputs": [
    {
     "name": "stdout",
     "output_type": "stream",
     "text": [
      "[1, 2, 3, 4, 5, 6]\n"
     ]
    }
   ],
   "source": [
    "#40\n",
    "my_list = [1, 2, 2, 3, 4, 3, 5, 6, 5]\n",
    "unique_list = list(dict.fromkeys(my_list))  \n",
    "print(unique_list)"
   ]
  }
 ],
 "metadata": {
  "kernelspec": {
   "display_name": "Python 3",
   "language": "python",
   "name": "python3"
  },
  "language_info": {
   "codemirror_mode": {
    "name": "ipython",
    "version": 3
   },
   "file_extension": ".py",
   "mimetype": "text/x-python",
   "name": "python",
   "nbconvert_exporter": "python",
   "pygments_lexer": "ipython3",
   "version": "3.12.9"
  }
 },
 "nbformat": 4,
 "nbformat_minor": 2
}
