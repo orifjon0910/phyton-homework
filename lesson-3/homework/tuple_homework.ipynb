{
 "cells": [
  {
   "cell_type": "code",
   "execution_count": null,
   "metadata": {},
   "outputs": [
    {
     "name": "stdout",
     "output_type": "stream",
     "text": [
      "3\n"
     ]
    }
   ],
   "source": [
    "#1\n",
    "my_tuple = (1, 2, 3, 2, 2, 5, 9)\n",
    "element = 2\n",
    "print(my_tuple.count(element))"
   ]
  },
  {
   "cell_type": "code",
   "execution_count": 6,
   "metadata": {},
   "outputs": [
    {
     "name": "stdout",
     "output_type": "stream",
     "text": [
      "9\n"
     ]
    }
   ],
   "source": [
    "#2\n",
    "my_tuple = (1, 2, 3, 2, 2, 5, 9)\n",
    "print(max(my_tuple))"
   ]
  },
  {
   "cell_type": "code",
   "execution_count": 7,
   "metadata": {},
   "outputs": [
    {
     "name": "stdout",
     "output_type": "stream",
     "text": [
      "1\n"
     ]
    }
   ],
   "source": [
    "#3\n",
    "my_tuple = (1, 2, 3, 2, 2, 5, 9)\n",
    "print(min(my_tuple))\n"
   ]
  },
  {
   "cell_type": "code",
   "execution_count": 9,
   "metadata": {},
   "outputs": [
    {
     "name": "stdout",
     "output_type": "stream",
     "text": [
      "yes\n"
     ]
    }
   ],
   "source": [
    "#4\n",
    "my_tuple = (1, 2, 3, 2, 2, 5, 9)\n",
    "element = 5\n",
    "if element in my_tuple:\n",
    "    print(\"yes\")\n",
    "else:\n",
    "    print(\"no\")    "
   ]
  },
  {
   "cell_type": "code",
   "execution_count": null,
   "metadata": {},
   "outputs": [
    {
     "name": "stdout",
     "output_type": "stream",
     "text": [
      "10\n"
     ]
    }
   ],
   "source": [
    "#5\n",
    "my_tuple = (10, 20, 30)\n",
    "first_element = my_tuple[0] if my_tuple else None\n",
    "print(first_element) "
   ]
  },
  {
   "cell_type": "code",
   "execution_count": 11,
   "metadata": {},
   "outputs": [
    {
     "name": "stdout",
     "output_type": "stream",
     "text": [
      "30\n"
     ]
    }
   ],
   "source": [
    "#6\n",
    "my_tuple = (10, 20, 30)\n",
    "last_element = my_tuple[-1] if my_tuple else None\n",
    "print(last_element) "
   ]
  },
  {
   "cell_type": "code",
   "execution_count": 12,
   "metadata": {},
   "outputs": [
    {
     "name": "stdout",
     "output_type": "stream",
     "text": [
      "5\n"
     ]
    }
   ],
   "source": [
    "#7\n",
    "my_tuple = (1, 2, 3, 4, 5)\n",
    "length = len(my_tuple)\n",
    "print(length)"
   ]
  },
  {
   "cell_type": "code",
   "execution_count": null,
   "metadata": {},
   "outputs": [],
   "source": [
    "#8\n",
    "my_tuple = (10, 20, 30, 40, 50)\n",
    "sliced_tuple = my_tuple[:3]\n",
    "print(sliced_tuple) "
   ]
  },
  {
   "cell_type": "code",
   "execution_count": 13,
   "metadata": {},
   "outputs": [
    {
     "name": "stdout",
     "output_type": "stream",
     "text": [
      "(1, 2, 3, 4, 5, 6)\n"
     ]
    }
   ],
   "source": [
    "#9\n",
    "tuple1 = (1, 2, 3)\n",
    "tuple2 = (4, 5, 6)\n",
    "concatenated_tuple = tuple1 + tuple2\n",
    "print(concatenated_tuple) "
   ]
  },
  {
   "cell_type": "code",
   "execution_count": 14,
   "metadata": {},
   "outputs": [
    {
     "name": "stdout",
     "output_type": "stream",
     "text": [
      "True\n",
      "True\n"
     ]
    }
   ],
   "source": [
    "#10\n",
    "my_tuple = ()\n",
    "is_empty = len(my_tuple) == 0  \n",
    "print(is_empty) \n",
    "is_empty = not my_tuple  \n",
    "print(is_empty)"
   ]
  },
  {
   "cell_type": "code",
   "execution_count": null,
   "metadata": {},
   "outputs": [],
   "source": [
    "#11\n",
    "my_tuple = (1, 2, 3, 2, 4, 2, 5)\n",
    "element = 2\n",
    "indices = [i for i, x in enumerate(my_tuple) if x == element]\n",
    "print(indices) "
   ]
  },
  {
   "cell_type": "code",
   "execution_count": 15,
   "metadata": {},
   "outputs": [
    {
     "name": "stdout",
     "output_type": "stream",
     "text": [
      "30\n"
     ]
    }
   ],
   "source": [
    "#12\n",
    "my_tuple = (10, 20, 5, 40, 20, 10, 30)\n",
    "unique_sorted = sorted(set(my_tuple), reverse=True)\n",
    "second_largest = unique_sorted[1] if len(unique_sorted) > 1 else None\n",
    "print(second_largest) "
   ]
  },
  {
   "cell_type": "code",
   "execution_count": null,
   "metadata": {},
   "outputs": [],
   "source": [
    "#13\n",
    "my_tuple = (10, 20, 5, 40, 20, 10, 30)\n",
    "unique_sorted = sorted(set(my_tuple))  \n",
    "second_smallest = unique_sorted[1] if len(unique_sorted) > 1 else None\n",
    "print(second_smallest)"
   ]
  },
  {
   "cell_type": "code",
   "execution_count": 16,
   "metadata": {},
   "outputs": [
    {
     "name": "stdout",
     "output_type": "stream",
     "text": [
      "(42,)\n",
      "<class 'tuple'>\n"
     ]
    }
   ],
   "source": [
    "#14\n",
    "element = 42\n",
    "single_element_tuple = (element,)\n",
    "print(single_element_tuple)  \n",
    "print(type(single_element_tuple))"
   ]
  },
  {
   "cell_type": "code",
   "execution_count": 17,
   "metadata": {},
   "outputs": [
    {
     "name": "stdout",
     "output_type": "stream",
     "text": [
      "(1, 2, 3, 4, 5)\n"
     ]
    }
   ],
   "source": [
    "#15\n",
    "my_list = [1, 2, 3, 4, 5]\n",
    "converted_tuple = tuple(my_list)\n",
    "print(converted_tuple) "
   ]
  },
  {
   "cell_type": "code",
   "execution_count": 18,
   "metadata": {},
   "outputs": [
    {
     "name": "stdout",
     "output_type": "stream",
     "text": [
      "True\n",
      "False\n"
     ]
    }
   ],
   "source": [
    "#16\n",
    "my_tuple = (1, 2, 3, 4, 5)\n",
    "is_sorted = my_tuple == tuple(sorted(my_tuple))\n",
    "print(is_sorted)\n",
    "\n",
    "my_tuple = (3, 1, 4, 2)\n",
    "is_sorted = my_tuple == tuple(sorted(my_tuple))\n",
    "print(is_sorted) "
   ]
  },
  {
   "cell_type": "code",
   "execution_count": null,
   "metadata": {},
   "outputs": [],
   "source": [
    "#17\n",
    "my_tuple = (10, 20, 30, 40, 50)\n",
    "start, end = 1, 4  \n",
    "max_subtuple = max(my_tuple[start:end]) if my_tuple[start:end] else None\n",
    "print(max_subtuple) \n"
   ]
  },
  {
   "cell_type": "code",
   "execution_count": null,
   "metadata": {},
   "outputs": [],
   "source": [
    "#18\n",
    "my_tuple = (10, 20, 30, 40, 50)\n",
    "start, end = 1, 4  \n",
    "min_subtuple = min(my_tuple[start:end]) if my_tuple[start:end] else None\n",
    "print(min_subtuple) "
   ]
  },
  {
   "cell_type": "code",
   "execution_count": null,
   "metadata": {},
   "outputs": [],
   "source": [
    "#19\n",
    "my_tuple = (1, 2, 3, 2, 4, 5)\n",
    "element_to_remove = 2\n",
    "\n",
    "if element_to_remove in my_tuple:\n",
    "    temp_list = list(my_tuple)\n",
    "    temp_list.remove(element_to_remove)\n",
    "    new_tuple = tuple(temp_list)\n",
    "else:\n",
    "    new_tuple = my_tuple\n",
    "\n",
    "print(new_tuple)"
   ]
  },
  {
   "cell_type": "code",
   "execution_count": null,
   "metadata": {},
   "outputs": [],
   "source": [
    "#20\n",
    "my_tuple = (10, 20, 30, 40, 50)\n",
    "nested_tuple = ((my_tuple[0], my_tuple[1]), (my_tuple[2], my_tuple[3]))\n",
    "\n",
    "print(nested_tuple) "
   ]
  },
  {
   "cell_type": "code",
   "execution_count": 19,
   "metadata": {},
   "outputs": [
    {
     "name": "stdout",
     "output_type": "stream",
     "text": [
      "(1, 1, 1, 2, 2, 2, 3, 3, 3)\n"
     ]
    }
   ],
   "source": [
    "#21\n",
    "my_tuple = (1, 2, 3)\n",
    "n = 3  \n",
    "repeated_tuple = tuple(x for x in my_tuple for _ in range(n))\n",
    "print(repeated_tuple) "
   ]
  },
  {
   "cell_type": "code",
   "execution_count": 20,
   "metadata": {},
   "outputs": [
    {
     "name": "stdout",
     "output_type": "stream",
     "text": [
      "(1, 2, 3, 4, 5, 6, 7, 8, 9, 10)\n"
     ]
    }
   ],
   "source": [
    "#22\n",
    "range_tuple = tuple(range(1, 11))  \n",
    "print(range_tuple)\n"
   ]
  },
  {
   "cell_type": "code",
   "execution_count": null,
   "metadata": {},
   "outputs": [],
   "source": [
    "#23\n",
    "my_tuple = (1, 2, 3, 4, 5)\n",
    "reversed_tuple = my_tuple[::-1]\n",
    "print(reversed_tuple)"
   ]
  },
  {
   "cell_type": "code",
   "execution_count": null,
   "metadata": {},
   "outputs": [],
   "source": [
    "#24\n",
    "my_tuple = (1, 2, 3, 2, 1)\n",
    "is_palindrome = my_tuple == my_tuple[::-1]\n",
    "print(is_palindrome)"
   ]
  },
  {
   "cell_type": "code",
   "execution_count": 21,
   "metadata": {},
   "outputs": [
    {
     "name": "stdout",
     "output_type": "stream",
     "text": [
      "(1, 2, 3, 4, 5)\n"
     ]
    }
   ],
   "source": [
    "#25\n",
    "my_tuple = (1, 2, 3, 2, 4, 1, 5)\n",
    "seen = set()\n",
    "unique_tuple = tuple(x for x in my_tuple if not (x in seen or seen.add(x)))\n",
    "print(unique_tuple) "
   ]
  }
 ],
 "metadata": {
  "kernelspec": {
   "display_name": "Python 3",
   "language": "python",
   "name": "python3"
  },
  "language_info": {
   "codemirror_mode": {
    "name": "ipython",
    "version": 3
   },
   "file_extension": ".py",
   "mimetype": "text/x-python",
   "name": "python",
   "nbconvert_exporter": "python",
   "pygments_lexer": "ipython3",
   "version": "3.12.9"
  }
 },
 "nbformat": 4,
 "nbformat_minor": 2
}
