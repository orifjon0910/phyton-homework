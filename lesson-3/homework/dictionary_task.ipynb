{
 "cells": [
  {
   "cell_type": "code",
   "execution_count": 1,
   "metadata": {},
   "outputs": [
    {
     "name": "stdout",
     "output_type": "stream",
     "text": [
      "Value: 2\n"
     ]
    }
   ],
   "source": [
    "#1\n",
    "my_dict = {\"a\": 1, \"b\": 2, \"c\": 3}\n",
    "key = \"b\"\n",
    "value = my_dict.get(key, \"Key not found\") \n",
    "print(\"Value:\", value)"
   ]
  },
  {
   "cell_type": "code",
   "execution_count": null,
   "metadata": {},
   "outputs": [],
   "source": [
    "#2\n",
    "my_dict = {\"a\": 1, \"b\": 2, \"c\": 3}\n",
    "key = \"b\"\n",
    "exists = key in my_dict  \n",
    "print(\"Key exists?\", exists)"
   ]
  },
  {
   "cell_type": "code",
   "execution_count": 2,
   "metadata": {},
   "outputs": [
    {
     "name": "stdout",
     "output_type": "stream",
     "text": [
      "3\n"
     ]
    }
   ],
   "source": [
    "#3\n",
    "my_dict = {\"a\": 1, \"b\": 2, \"c\": 3}\n",
    "counter = len(my_dict)\n",
    "print(counter)\n"
   ]
  },
  {
   "cell_type": "code",
   "execution_count": 3,
   "metadata": {},
   "outputs": [
    {
     "name": "stdout",
     "output_type": "stream",
     "text": [
      "Keys: ['a', 'b', 'c']\n"
     ]
    }
   ],
   "source": [
    "#4\n",
    "my_dict = {\"a\": 1, \"b\": 2, \"c\": 3}\n",
    "keys_list = list(my_dict.keys())  \n",
    "print(\"Keys:\", keys_list)"
   ]
  },
  {
   "cell_type": "code",
   "execution_count": 4,
   "metadata": {},
   "outputs": [
    {
     "name": "stdout",
     "output_type": "stream",
     "text": [
      "Values: [1, 2, 3]\n"
     ]
    }
   ],
   "source": [
    "#5\n",
    "my_dict = {\"a\": 1, \"b\": 2, \"c\": 3}\n",
    "values_list = list(my_dict.values())  \n",
    "print(\"Values:\", values_list)"
   ]
  },
  {
   "cell_type": "code",
   "execution_count": null,
   "metadata": {},
   "outputs": [],
   "source": [
    "#6\n",
    "dict1 = {\"a\": 1, \"b\": 2}\n",
    "dict2 = {\"c\": 3, \"d\": 4}\n",
    "merged_dict = {**dict1, **dict2}  \n",
    "print(\"Merged Dictionary:\", merged_dict)\n"
   ]
  },
  {
   "cell_type": "code",
   "execution_count": null,
   "metadata": {},
   "outputs": [],
   "source": [
    "#7\n",
    "my_dict = {\"a\": 1, \"b\": 2, \"c\": 3}\n",
    "key_to_remove = \"b\"\n",
    "if key_to_remove in my_dict:\n",
    "    del my_dict[key_to_remove]  \n",
    "print(\"Updated Dictionary:\", my_dict)"
   ]
  },
  {
   "cell_type": "code",
   "execution_count": null,
   "metadata": {},
   "outputs": [],
   "source": [
    "#8\n",
    "my_dict = {\"a\": 1, \"b\": 2, \"c\": 3}\n",
    "my_dict.clear()\n",
    "print(\"Cleared Dictionary:\", my_dict)"
   ]
  },
  {
   "cell_type": "code",
   "execution_count": 5,
   "metadata": {},
   "outputs": [
    {
     "name": "stdout",
     "output_type": "stream",
     "text": [
      "The dictionary is empty.\n"
     ]
    }
   ],
   "source": [
    "#9\n",
    "my_dict = {}\n",
    "if not my_dict:  # An empty dictionary evaluates to False\n",
    "    print(\"The dictionary is empty.\")\n",
    "else:\n",
    "    print(\"The dictionary is not empty.\")"
   ]
  },
  {
   "cell_type": "code",
   "execution_count": null,
   "metadata": {},
   "outputs": [],
   "source": [
    "#10\n",
    "my_dict = {\"a\": 1, \"b\": 2, \"c\": 3}\n",
    "key_to_find = \"b\"\n",
    "if key_to_find in my_dict:\n",
    "    print(\"Key-Value Pair:\", (key_to_find, my_dict[key_to_find]))\n",
    "else:\n",
    "    print(\"Key not found.\")"
   ]
  },
  {
   "cell_type": "code",
   "execution_count": null,
   "metadata": {},
   "outputs": [],
   "source": [
    "#11\n",
    "my_dict = {\"a\": 1, \"b\": 2, \"c\": 3}\n",
    "key_to_update = \"b\"\n",
    "new_value = 10\n",
    "if key_to_update in my_dict:\n",
    "    my_dict[key_to_update] = new_value  # Update the value\n",
    "    print(\"Updated Dictionary:\", my_dict)\n",
    "else:\n",
    "    print(\"Key not found.\")"
   ]
  },
  {
   "cell_type": "code",
   "execution_count": null,
   "metadata": {},
   "outputs": [],
   "source": [
    "#12\n",
    "my_dict = {\"a\": 1, \"b\": 2, \"c\": 1, \"d\": 3, \"e\": 2}\n",
    "value_to_count = 2\n",
    "count = list(my_dict.values()).count(value_to_count)  \n",
    "print(f\"Value {value_to_count} appears {count} times.\")"
   ]
  },
  {
   "cell_type": "code",
   "execution_count": null,
   "metadata": {},
   "outputs": [],
   "source": [
    "#13\n",
    "my_dict = {\"a\": 1, \"b\": 2, \"c\": 3}\n",
    "inverted_dict = {value: key for key, value in my_dict.items()}\n",
    "print(inverted_dict)"
   ]
  },
  {
   "cell_type": "code",
   "execution_count": null,
   "metadata": {},
   "outputs": [],
   "source": [
    "#14\n",
    "my_dict = {\"a\": 1, \"b\": 2, \"c\": 1, \"d\": 3, \"e\": 2}\n",
    "value_to_find = 2\n",
    "keys_with_value = [key for key, value in my_dict.items() if value == value_to_find]\n",
    "print(keys_with_value)"
   ]
  },
  {
   "cell_type": "code",
   "execution_count": null,
   "metadata": {},
   "outputs": [],
   "source": [
    "#15\n",
    "keys = [\"a\", \"b\", \"c\"]\n",
    "values = [1, 2, 3]\n",
    "if len(keys) == len(values):\n",
    "    new_dict = dict(zip(keys, values))\n",
    "    print(new_dict)\n",
    "else:\n",
    "    print(\"Error: Lists must have the same length.\")"
   ]
  },
  {
   "cell_type": "code",
   "execution_count": null,
   "metadata": {},
   "outputs": [],
   "source": [
    "#16\n",
    "my_dict = {\n",
    "    \"a\": 1,\n",
    "    \"b\": {\"nested1\": 10, \"nested2\": 20},\n",
    "    \"c\": 3,\n",
    "}\n",
    "\n",
    "has_nested = any(isinstance(value, dict) for value in my_dict.values())\n",
    "print(has_nested) "
   ]
  },
  {
   "cell_type": "code",
   "execution_count": 7,
   "metadata": {},
   "outputs": [
    {
     "name": "stdout",
     "output_type": "stream",
     "text": [
      "New York\n"
     ]
    }
   ],
   "source": [
    "#17\n",
    "nested_dict = {\n",
    "    \"user\": {\n",
    "        \"name\": \"Alice\",\n",
    "        \"age\": 25,\n",
    "        \"address\": {\"city\": \"New York\", \"zip\": \"10001\"},\n",
    "    }\n",
    "}\n",
    "\n",
    "value = nested_dict.get(\"user\", {}).get(\"address\", {}).get(\"city\", \"Not Found\")\n",
    "print(value) "
   ]
  },
  {
   "cell_type": "code",
   "execution_count": 8,
   "metadata": {},
   "outputs": [
    {
     "name": "stdout",
     "output_type": "stream",
     "text": [
      "Alice\n",
      "Not Available\n"
     ]
    }
   ],
   "source": [
    "#18\n",
    "from collections import defaultdict\n",
    "default_dict = defaultdict(lambda: \"Not Available\")\n",
    "default_dict[\"name\"] = \"Alice\"\n",
    "default_dict[\"age\"] = 25\n",
    "print(default_dict[\"name\"])  \n",
    "print(default_dict[\"city\"])  \n"
   ]
  },
  {
   "cell_type": "code",
   "execution_count": null,
   "metadata": {},
   "outputs": [],
   "source": [
    "#19\n",
    "my_dict = {\"a\": 10, \"b\": 20, \"c\": 10, \"d\": 30, \"e\": 20}\n",
    "unique_values = len(set(my_dict.values()))\n",
    "print(unique_values)"
   ]
  },
  {
   "cell_type": "code",
   "execution_count": null,
   "metadata": {},
   "outputs": [],
   "source": [
    "#20\n",
    "my_dict = {\"b\": 2, \"c\": 3, \"a\": 1, \"d\": 4}\n",
    "sorted_by_key = dict(sorted(my_dict.items()))\n",
    "print(sorted_by_key)"
   ]
  },
  {
   "cell_type": "code",
   "execution_count": null,
   "metadata": {},
   "outputs": [],
   "source": [
    "#21\n",
    "my_dict = {\"b\": 2, \"c\": 3, \"a\": 1, \"d\": 4}\n",
    "sorted_by_value = dict(sorted(my_dict.items(), key=lambda item: item[1]))\n",
    "print(sorted_by_value)"
   ]
  },
  {
   "cell_type": "code",
   "execution_count": null,
   "metadata": {},
   "outputs": [],
   "source": [
    "#22\n",
    "my_dict = {\"a\": 10, \"b\": 20, \"c\": 30, \"d\": 40}\n",
    "filtered_dict = {k: v for k, v in my_dict.items() if v > 20}\n",
    "print(filtered_dict)  "
   ]
  },
  {
   "cell_type": "code",
   "execution_count": null,
   "metadata": {},
   "outputs": [],
   "source": [
    "#23\n",
    "dict1 = {\"a\": 1, \"b\": 2, \"c\": 3}\n",
    "dict2 = {\"c\": 4, \"d\": 5, \"e\": 6}\n",
    "common_keys = set(dict1.keys()) & set(dict2.keys())\n",
    "print(bool(common_keys))"
   ]
  },
  {
   "cell_type": "code",
   "execution_count": 9,
   "metadata": {},
   "outputs": [
    {
     "name": "stdout",
     "output_type": "stream",
     "text": [
      "{'a': 1, 'b': 2, 'c': 3}\n"
     ]
    }
   ],
   "source": [
    "#24\n",
    "tuple_data = ((\"a\", 1), (\"b\", 2), (\"c\", 3))\n",
    "new_dict = dict(tuple_data)\n",
    "print(new_dict)"
   ]
  },
  {
   "cell_type": "code",
   "execution_count": null,
   "metadata": {},
   "outputs": [],
   "source": [
    "#25\n",
    "my_dict = {\"a\": 1, \"b\": 2, \"c\": 3}\n",
    "first_key, first_value = next(iter(my_dict.items()))\n",
    "print(first_key, first_value) "
   ]
  }
 ],
 "metadata": {
  "kernelspec": {
   "display_name": "Python 3",
   "language": "python",
   "name": "python3"
  },
  "language_info": {
   "codemirror_mode": {
    "name": "ipython",
    "version": 3
   },
   "file_extension": ".py",
   "mimetype": "text/x-python",
   "name": "python",
   "nbconvert_exporter": "python",
   "pygments_lexer": "ipython3",
   "version": "3.12.9"
  }
 },
 "nbformat": 4,
 "nbformat_minor": 2
}
