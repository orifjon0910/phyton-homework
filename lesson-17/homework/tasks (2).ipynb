{
 "cells": [
  {
   "cell_type": "code",
   "execution_count": null,
   "id": "initial_id",
   "metadata": {
    "collapsed": true
   },
   "outputs": [],
   "source": [
    "import pandas as pd\n",
    "import numpy as np\n",
    "import sqlite3\n",
    "with sqlite3.connect('data/chinook.db') as connection:\n",
    "    df_employee = pd.read_sql(\n",
    "        \"SELECT * FROM customers\",\n",
    "        con=connection\n",
    "    )\n",
    "    df_invoices = pd.read_sql(\n",
    "        \"SELECT * FROM invoices\",\n",
    "        con=connection\n",
    "    )\n",
    "\n",
    "emp_invoice = pd.merge(df_employee, df_invoices, on=\"CustomerId\")\n",
    "emp_invoice.groupby(\"CustomerId\")[\"Total\"].sum()"
   ]
  },
  {
   "metadata": {},
   "cell_type": "code",
   "outputs": [],
   "execution_count": null,
   "source": [
    "\n",
    "df_movie = pd.read_csv(\"data/movie.csv\")\n",
    "df_movie1 = df_movie[[\"director_name\", \"color\"]]\n",
    "df_movie2 = df_movie[[\"director_name\", \"num_critic_for_reviews\"]]\n",
    "df_movie3 = pd.merge(df_movie1, df_movie2, on=\"director_name\", how=\"left\")\n",
    "df_movie4 = pd.merge(df_movie1, df_movie2, on=\"director_name\", how=\"outer\")\n",
    "print(df_movie3.shape[0])\n",
    "print(df_movie4.shape[0])"
   ],
   "id": "6c4af5cd79ee7797"
  },
  {
   "metadata": {},
   "cell_type": "code",
   "outputs": [],
   "execution_count": null,
   "source": [
    "df_titanic = pd.read_excel(\"data/titanic.xlsx\")\n",
    "titanic_group = df_titanic.groupby([\"Pclass\"]).agg(avg_age = (\"Age\", \"mean\"),\n",
    "                                    total_fare=('Fare', 'sum'),\n",
    "                                    passenger_count=('Pclass', 'count'))\n",
    "print(titanic_group )"
   ],
   "id": "d1334d795f2ae1f0"
  },
  {
   "metadata": {},
   "cell_type": "code",
   "outputs": [],
   "execution_count": null,
   "source": [
    "\n",
    "movie_group = df_movie.groupby([\"director_name\", \"color\"])[\"num_critic_for_reviews\"].sum()\n",
    "movie_group"
   ],
   "id": "b94ceeaaf39d0b1e"
  },
  {
   "metadata": {},
   "cell_type": "code",
   "outputs": [],
   "execution_count": null,
   "source": [
    "\n",
    "df_movie.groupby([\"director_name\", \"color\"])[\"duration\"].mean()"
   ],
   "id": "3c9f77d50c04ba11"
  },
  {
   "metadata": {},
   "cell_type": "code",
   "outputs": [],
   "execution_count": null,
   "source": [
    "flights = pd.read_parquet('data/flights')\n",
    "\n",
    "\n",
    "flights_group = flights.groupby(['Year', 'Month']).agg(\n",
    "total_flights=('FlightDate', 'size'),\n",
    "    avg_arrival_delay=('ArrDelay', 'mean'),\n",
    "    max_departure_delay=('DepDelay', 'max')"
   ],
   "id": "5751c871ba1eca3c"
  },
  {
   "metadata": {},
   "cell_type": "code",
   "outputs": [],
   "execution_count": null,
   "source": [
    "\n",
    "def custom_func(age):\n",
    "    if age<18:\n",
    "        return \"Child\"\n",
    "    else:\n",
    "        return \"Adult\""
   ],
   "id": "630662dfd55ba966"
  },
  {
   "metadata": {},
   "cell_type": "code",
   "outputs": [],
   "execution_count": null,
   "source": [
    "\n",
    "df_titanic[\"Age_Group\"] = df_titanic[\"Age\"].apply(custom_func)\n",
    "df_titanic"
   ],
   "id": "bdc232a2ababf20d"
  },
  {
   "metadata": {},
   "cell_type": "code",
   "outputs": [],
   "execution_count": null,
   "source": [
    "\n",
    "\n",
    "def pipelining(df, col_name: str, value: int):\n",
    "    df[col_name] = value\n",
    "    df1 = df[df['Survived'] == 1]\n",
    "    df1['Age'] = df1['Age'].fillna(df1['Age'].mean())\n",
    "\n",
    "    return df1\n",
    "\n",
    "df_titanic.pipe(pipelining, 'Fare_Per_Age', df_titanic['Fare'] / df_titanic['Age'])"
   ],
   "id": "825166aeace31a59"
  },
  {
   "metadata": {},
   "cell_type": "code",
   "outputs": [],
   "execution_count": null,
   "source": [
    "\n",
    "def pipe_flight(df, col_name: str, value):\n",
    "    df1 = df[df[\"DepDelay\"]>30]\n",
    "\n",
    "    df1[col_name] = value\n",
    "    return df1\n",
    "\n",
    "flights.pipe(pipe_flight, 'Delay_Per_Hour', (int(flights['DepDelay']) / int(flights['ArrTime'])))"
   ],
   "id": "e7efa3d5ee8c9ca7"
  },
  {
   "metadata": {},
   "cell_type": "code",
   "outputs": [],
   "execution_count": null,
   "source": [
    "\n",
    "flights[\"ArrTime\"]"
   ],
   "id": "f98cf5a06a5fe900"
  },
  {
   "metadata": {},
   "cell_type": "code",
   "outputs": [],
   "execution_count": null,
   "source": "flights.columns[0:50]",
   "id": "843ccdfda031f8b"
  }
 ],
 "metadata": {
  "kernelspec": {
   "display_name": "Python 3",
   "language": "python",
   "name": "python3"
  },
  "language_info": {
   "codemirror_mode": {
    "name": "ipython",
    "version": 2
   },
   "file_extension": ".py",
   "mimetype": "text/x-python",
   "name": "python",
   "nbconvert_exporter": "python",
   "pygments_lexer": "ipython2",
   "version": "2.7.6"
  }
 },
 "nbformat": 4,
 "nbformat_minor": 5
}
